{
 "cells": [
  {
   "cell_type": "markdown",
   "metadata": {},
   "source": [
    "### Ньяти Каелиле БВТ2201 - Лаб 2"
   ]
  },
  {
   "cell_type": "markdown",
   "metadata": {},
   "source": [
    "#### Optimization"
   ]
  },
  {
   "cell_type": "code",
   "execution_count": 1,
   "metadata": {},
   "outputs": [],
   "source": [
    "import cv2 as cv\n",
    "import numpy as np"
   ]
  },
  {
   "cell_type": "code",
   "execution_count": 2,
   "metadata": {},
   "outputs": [
    {
     "name": "stdout",
     "output_type": "stream",
     "text": [
      "0.2032054\n"
     ]
    }
   ],
   "source": [
    "img = cv.imread('image5.jpg')\n",
    "assert img is not None, \"file could not be read, check with os.path.exists()\"\n",
    "e1 = cv.getTickCount()\n",
    "for i in range(5,49,2):\n",
    "    img = cv.medianBlur(img,i)\n",
    "e2 = cv.getTickCount()\n",
    "t = (e2 - e1)/cv.getTickFrequency()\n",
    "print( t )\n",
    "\n",
    "\n",
    "cv.useOptimized()\n",
    "cv.setUseOptimized(False)"
   ]
  },
  {
   "cell_type": "code",
   "execution_count": 3,
   "metadata": {},
   "outputs": [
    {
     "name": "stdout",
     "output_type": "stream",
     "text": [
      "timeit1:  [[[191 129  93]\n",
      "  [191 129  93]\n",
      "  [191 129  93]\n",
      "  ...\n",
      "  [137 128 113]\n",
      "  [137 128 109]\n",
      "  [137 128 109]]\n",
      "\n",
      " [[191 129  93]\n",
      "  [191 129  93]\n",
      "  [191 129  93]\n",
      "  ...\n",
      "  [137 128 113]\n",
      "  [137 128 113]\n",
      "  [137 128 109]]\n",
      "\n",
      " [[191 129  93]\n",
      "  [191 129  93]\n",
      "  [191 129  93]\n",
      "  ...\n",
      "  [137 128 113]\n",
      "  [137 128 113]\n",
      "  [137 128 109]]\n",
      "\n",
      " ...\n",
      "\n",
      " [[194 133  89]\n",
      "  [194 133  89]\n",
      "  [194 133  89]\n",
      "  ...\n",
      "  [186 128  93]\n",
      "  [186 128  93]\n",
      "  [186 128  93]]\n",
      "\n",
      " [[186 128  89]\n",
      "  [186 128  89]\n",
      "  [186 128  89]\n",
      "  ...\n",
      "  [186 128  93]\n",
      "  [186 128  93]\n",
      "  [186 128  93]]\n",
      "\n",
      " [[186 128  89]\n",
      "  [186 128  89]\n",
      "  [186 128  89]\n",
      "  ...\n",
      "  [186 128  93]\n",
      "  [186 128  93]\n",
      "  [185 128  93]]]\n",
      "timeit2:  [[[191 129  93]\n",
      "  [191 129  93]\n",
      "  [191 129  93]\n",
      "  ...\n",
      "  [137 128 113]\n",
      "  [137 128 109]\n",
      "  [137 128 109]]\n",
      "\n",
      " [[191 129  93]\n",
      "  [191 129  93]\n",
      "  [191 129  93]\n",
      "  ...\n",
      "  [137 128 113]\n",
      "  [137 128 113]\n",
      "  [137 128 109]]\n",
      "\n",
      " [[191 129  93]\n",
      "  [191 129  93]\n",
      "  [191 129  93]\n",
      "  ...\n",
      "  [137 128 113]\n",
      "  [137 128 113]\n",
      "  [137 128 109]]\n",
      "\n",
      " ...\n",
      "\n",
      " [[194 133  89]\n",
      "  [194 133  89]\n",
      "  [194 133  89]\n",
      "  ...\n",
      "  [186 128  93]\n",
      "  [186 128  93]\n",
      "  [186 128  93]]\n",
      "\n",
      " [[186 128  89]\n",
      "  [186 128  89]\n",
      "  [186 128  89]\n",
      "  ...\n",
      "  [186 128  93]\n",
      "  [186 128  93]\n",
      "  [186 128  93]]\n",
      "\n",
      " [[186 128  89]\n",
      "  [186 128  89]\n",
      "  [186 128  89]\n",
      "  ...\n",
      "  [186 128  93]\n",
      "  [186 128  93]\n",
      "  [185 128  93]]]\n"
     ]
    }
   ],
   "source": [
    "# check if optimization is enabled\n",
    "cv.useOptimized()\n",
    "timeit1 = cv.medianBlur(img,49)\n",
    "print(\"timeit1: \", timeit1)\n",
    "\n",
    "cv.setUseOptimized(False)\n",
    "cv.useOptimized()\n",
    "timeit2 = cv.medianBlur(img,49)\n",
    "print(\"timeit2: \", timeit2)"
   ]
  },
  {
   "cell_type": "code",
   "execution_count": 4,
   "metadata": {},
   "outputs": [
    {
     "name": "stdout",
     "output_type": "stream",
     "text": [
      "OpenCV countNonZero: 50290\n",
      "NumPy count_nonzero: 150870\n"
     ]
    }
   ],
   "source": [
    "# Convert the image to grayscale\n",
    "gray_img = cv.cvtColor(img, cv.COLOR_BGR2GRAY)\n",
    "\n",
    "# Count non-zero pixels using OpenCV\n",
    "timeit1 = cv.countNonZero(gray_img) #this one is faster\n",
    "\n",
    "# Count non-zero pixels using NumPy\n",
    "timeit2 = np.count_nonzero(img)\n",
    "\n",
    "print(\"OpenCV countNonZero:\", timeit1)\n",
    "print(\"NumPy count_nonzero:\", timeit2)"
   ]
  },
  {
   "cell_type": "markdown",
   "metadata": {},
   "source": [
    "#### Exercise 2"
   ]
  },
  {
   "cell_type": "markdown",
   "metadata": {},
   "source": [
    "##### Video capture"
   ]
  },
  {
   "cell_type": "code",
   "execution_count": null,
   "metadata": {},
   "outputs": [],
   "source": [
    "import numpy as np\n",
    "import cv2 as cv\n",
    "\n",
    "cap = cv.VideoCapture(0)\n",
    "if not cap.isOpened():\n",
    "    print(\"Cannot open camera\")\n",
    "    exit()\n",
    "while True:\n",
    "    # Capture frame-by-frame\n",
    "    ret, frame = cap.read()\n",
    "\n",
    "    # if frame is read correctly ret is True\n",
    "    if not ret:\n",
    "        print(\"Can't receive frame (stream end?). Exiting ...\")\n",
    "        break\n",
    "    # Our operations on the frame come here\n",
    "    gray = cv.cvtColor(frame, cv.COLOR_BGR2GRAY)\n",
    "\n",
    "    gray = cv.flip(gray, 1) #flip horizontally, for vertical flip it's 0\n",
    "    \n",
    "    # Display the resulting frame\n",
    "    cv.imshow('frame', gray)\n",
    "    if cv.waitKey(1) == ord('q'):\n",
    "        break\n",
    "\n",
    "# When everything done, release the capture\n",
    "cap.release()\n",
    "cv.destroyAllWindows()\n",
    "\n",
    "\n",
    "\n"
   ]
  },
  {
   "cell_type": "markdown",
   "metadata": {},
   "source": [
    "#### Video from files"
   ]
  },
  {
   "cell_type": "code",
   "execution_count": null,
   "metadata": {},
   "outputs": [],
   "source": [
    "import numpy as np\n",
    "import cv2 as cv\n",
    "\n",
    "cap = cv.VideoCapture(r'output.mp4') #read video from current file\n",
    "#cap = cv.VideoCapture(r'C:\\Users\\khaye\\Videos\\Captures\\demo2.mp4')\n",
    "\n",
    "\n",
    "# Get the frames per second (fps) of the video\n",
    "fps = cap.get(cv.CAP_PROP_FPS)\n",
    "\n",
    "# Define the delay between frames in milliseconds\n",
    "delay = int(1000 / (fps / 0.1))  # Slows down the video by a factor of 0.1\n",
    "\n",
    "\n",
    "while cap.isOpened():\n",
    "    ret, frame = cap.read()\n",
    "\n",
    "    # if frame is read correctly ret is True\n",
    "    if not ret:\n",
    "        print(\"Can't receive frame (stream end?). Exiting ...\")\n",
    "        break\n",
    "    gray = cv.cvtColor(frame, cv.COLOR_BGR2GRAY)\n",
    "\n",
    "    cv.imshow('frame', gray)\n",
    "\n",
    "    if cv.waitKey(delay) == ord('q'):\n",
    "        break\n",
    "\n",
    "cap.release()\n",
    "cv.destroyAllWindows()"
   ]
  },
  {
   "cell_type": "markdown",
   "metadata": {},
   "source": [
    "#### Saving a video"
   ]
  },
  {
   "cell_type": "code",
   "execution_count": 20,
   "metadata": {},
   "outputs": [],
   "source": [
    "import numpy as np\n",
    "import cv2 as cv\n",
    "\n",
    "cap = cv.VideoCapture(0)\n",
    "\n",
    "# Define the codec and create VideoWriter object\n",
    "fourcc = cv.VideoWriter_fourcc(*'DIVX')\n",
    "out = cv.VideoWriter('output.avi', fourcc, 20.0, (640,  480))\n",
    "\n",
    "#fourcc = cv.VideoWriter_fourcc(*'MPV4')\n",
    "#out = cv.VideoWriter('output.mp4', fourcc, 20.0, (640,  480))\n",
    "\n",
    "while cap.isOpened():\n",
    "    ret, frame = cap.read()\n",
    "    if not ret:\n",
    "        print(\"Can't receive frame (stream end?). Exiting ...\")\n",
    "        break\n",
    "    frame = cv.flip(frame, 1) #flip horizontally, for vertical flip it's 0\n",
    "\n",
    "    # write the flipped frame\n",
    "    out.write(frame)\n",
    "\n",
    "    cv.imshow('frame', frame)\n",
    "    if cv.waitKey(1) == ord('q'):\n",
    "        break\n",
    "\n",
    "# Release everything if job is finished\n",
    "cap.release()\n",
    "out.release()\n",
    "cv.destroyAllWindows()"
   ]
  }
 ],
 "metadata": {
  "kernelspec": {
   "display_name": "Python 3",
   "language": "python",
   "name": "python3"
  },
  "language_info": {
   "codemirror_mode": {
    "name": "ipython",
    "version": 3
   },
   "file_extension": ".py",
   "mimetype": "text/x-python",
   "name": "python",
   "nbconvert_exporter": "python",
   "pygments_lexer": "ipython3",
   "version": "3.8.0"
  }
 },
 "nbformat": 4,
 "nbformat_minor": 2
}
